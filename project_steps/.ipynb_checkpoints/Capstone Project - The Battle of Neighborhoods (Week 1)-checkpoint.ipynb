{
 "cells": [
  {
   "cell_type": "markdown",
   "metadata": {},
   "source": [
    "### Capstone Project - The Battle of Neighborhoods (Week 1)"
   ]
  },
  {
   "cell_type": "markdown",
   "metadata": {},
   "source": [
    "Now that you have been equipped with the skills and the tools to use location data to explore a geographical location, over the course of two weeks, you will have the opportunity to be as creative as you want and come up with an idea to leverage the Foursquare location data to explore or compare neighborhoods or cities of your choice or to come up with a problem that you can use the Foursquare location data to solve. If you cannot think of an idea or a problem, here are some ideas to get you started:\n",
    "\n",
    "- In Module 3, we explored New York City and the city of Toronto and segmented and clustered their neighborhoods. Both cities are very diverse and are the financial capitals of their respective countries. One interesting idea would be to compare the neighborhoods of the two cities and determine how similar or dissimilar they are. Is New York City more like Toronto or Paris or some other multicultural city? I will leave it to you to refine this idea.\n",
    "- In a city of your choice, if someone is looking to open a restaurant, where would you recommend that they open it? Similarly, if a contractor is trying to start their own business, where would you recommend that they setup their office?\n",
    "\n",
    "These are just a couple of many ideas and problems that can be solved using location data in addition to other datasets. No matter what you decide to do, make sure to provide sufficient justification of why you think what you want to do or solve is important and why would a client or a group of people be interested in your project."
   ]
  },
  {
   "cell_type": "markdown",
   "metadata": {},
   "source": [
    "For this week, you will required to submit the following:\n",
    "\n",
    "- A description of the problem and a discussion of the background.\n",
    "- A description of the data and how it will be used to solve the problem."
   ]
  },
  {
   "cell_type": "markdown",
   "metadata": {},
   "source": [
    "#### *Problem Description and Background Recall*"
   ]
  },
  {
   "cell_type": "markdown",
   "metadata": {},
   "source": [
    "We want to explore the similarity/dissimilarity between *New York city* and *Toronto* based on their segmented and clustered neighborhoods.\n",
    "\n",
    "From the previous project in last week, we have gained most data we need for two cities, see the description below for more data information. \n",
    "\n",
    "Moreover, the reason we are insterested in this problem is that, the Toronto and NYC are all economical captitals of their respective countries. They have many interactions and similarities in a common sense. For example, they are very closed to each other in geometric scale; they all are multicultural cities. So now we want to know, in terms of data analysis, are there really many similarity/dissimilarity between them?"
   ]
  },
  {
   "cell_type": "markdown",
   "metadata": {},
   "source": [
    "#### *Data Description* "
   ]
  },
  {
   "cell_type": "markdown",
   "metadata": {},
   "source": [
    "Most start-up datasets are from previous project, including \n",
    "    - to_df indicating the neighborhoods of Toronto\n",
    "    - ny_df indicating the neighborhoods of NYC\n",
    "    - to_cluster indicating the cluster info\n",
    "    - ny_cluster indicating the cluster info"
   ]
  },
  {
   "cell_type": "code",
   "execution_count": null,
   "metadata": {},
   "outputs": [],
   "source": []
  }
 ],
 "metadata": {
  "kernelspec": {
   "display_name": "Python 3",
   "language": "python",
   "name": "python3"
  },
  "language_info": {
   "codemirror_mode": {
    "name": "ipython",
    "version": 3
   },
   "file_extension": ".py",
   "mimetype": "text/x-python",
   "name": "python",
   "nbconvert_exporter": "python",
   "pygments_lexer": "ipython3",
   "version": "3.7.5"
  }
 },
 "nbformat": 4,
 "nbformat_minor": 2
}
